{
 "cells": [
  {
   "cell_type": "code",
   "execution_count": 1,
   "metadata": {},
   "outputs": [],
   "source": [
    "#Introduction a Python\n",
    "#C'est un langage de programmation Open Source, multiplateforme et gratuit \n",
    "\n"
   ]
  },
  {
   "cell_type": "code",
   "execution_count": 2,
   "metadata": {},
   "outputs": [
    {
     "name": "stdout",
     "output_type": "stream",
     "text": [
      "Bonjour le monde, j'apprends Python\n"
     ]
    }
   ],
   "source": [
    "#Print \n",
    "print(\"Bonjour le monde, j'apprends Python\")"
   ]
  },
  {
   "cell_type": "code",
   "execution_count": 3,
   "metadata": {},
   "outputs": [
    {
     "name": "stdout",
     "output_type": "stream",
     "text": [
      "la valeur de x est 4\n",
      "la valeur de y est 1.5\n",
      "la valeur de c est salut\n",
      "le type de variable x est:  <class 'int'>\n"
     ]
    }
   ],
   "source": [
    "#Variable\n",
    "#Zone de la memoire de l'ordinatuer dans laquelle une valeur est stockee\n",
    "#On donne au variable un nom et on initialise sa valeur\n",
    "\n",
    "#Affichage\n",
    "#la function print() affiche un variable ou une chaine d'opeartion\n",
    "\n",
    "x=4 #x est de type entier (integer ou int)\n",
    "print(\"la valeur de x est\", x)\n",
    "y=1.5 #y est de type decimal (float)\n",
    "print(\"la valeur de y est\", y)\n",
    "c=\"salut\" #c est une chaine de carateres (string ou str)\n",
    "print(\"la valeur de c est\", c)\n",
    "\n",
    "#pour verifier le type du variable\n",
    "print(\"le type de variable x est: \", type(x))"
   ]
  },
  {
   "cell_type": "code",
   "execution_count": 11,
   "metadata": {},
   "outputs": [
    {
     "name": "stdout",
     "output_type": "stream",
     "text": [
      "8\n",
      "0\n",
      "t\n",
      "9\n",
      "2.0\n",
      "at\n"
     ]
    }
   ],
   "source": [
    "#On peut initialiser plusieurs valeur a la fois\n",
    "a,b,c=1,2,'a'\n",
    "\n",
    "# Declarer d'autre variable de type integer, double, et  String.\n",
    "a2 = int(input()) # l'utilisater insere un int\n",
    "b2 = float(input()) # read double \n",
    "c2 = input() # read string\n",
    "\n",
    "# print summed and concatenated values\n",
    "print(a + a2)\n",
    "print(b + b2)\n",
    "print(c + c2)\n",
    "\n"
   ]
  },
  {
   "cell_type": "code",
   "execution_count": 14,
   "metadata": {},
   "outputs": [
    {
     "name": "stdout",
     "output_type": "stream",
     "text": [
      "La somme est:  13\n",
      "La difference est:  5\n",
      "Le produit est:  36\n",
      "Le quotient est(forme decimale):  2.25\n",
      "Le quotient est (forme arrondie) 2\n",
      "Le modulo est:  1\n"
     ]
    }
   ],
   "source": [
    "# Examples d' Operation Arithmetique \n",
    "a = 9\n",
    "b = 4\n",
    "    \n",
    "# Addition des nombres  \n",
    "add = a + b  \n",
    "# Subtraction des nombres   \n",
    "sub = a - b  \n",
    "# Multiplication des nombres   \n",
    "mul = a * b  \n",
    "# Division(float) des nombres  \n",
    "div1 = a / b  \n",
    "# Division(floor) des nombres   \n",
    "div2 = a // b  \n",
    "# Modulo \n",
    "mod = a % b  \n",
    "    \n",
    "# print results  \n",
    "print(\"La somme est: \", add)  \n",
    "print(\"La difference est: \", sub)  \n",
    "print(\"Le produit est: \", mul)  \n",
    "print(\"Le quotient est(forme decimale): \", div1)  \n",
    "print(\"Le quotient est (forme arrondie)\", div2)  \n",
    "print(\"Le modulo est: \", mod) "
   ]
  },
  {
   "cell_type": "code",
   "execution_count": 23,
   "metadata": {},
   "outputs": [
    {
     "name": "stdout",
     "output_type": "stream",
     "text": [
      "200 est grand que 33\n",
      "nomb1 et nomb3 asont egaux\n"
     ]
    }
   ],
   "source": [
    "#Sélection ou exécution conditionnelle\n",
    "nomb1 = 33\n",
    "nomb2 = 200\n",
    "#if \n",
    "if nomb2 > nomb1:\n",
    "  print(\"200 est grand que 33\")\n",
    "\n",
    "#elif\n",
    "nomb1 = 33\n",
    "nomb3 = 33\n",
    "if nomb3 > nomb1:\n",
    "  print(\"nomb1 est plus grand que nomb3\")\n",
    "elif nomb1 == nomb3:\n",
    "  print(\"nomb1 et nomb3 sont egaux\")\n",
    "\n",
    "#if else\n",
    "\n",
    "\n",
    "if b > a:\n",
    "  print(\"b is greater than a\")\n",
    "elif a == b:\n",
    "  print(\"a and b are equal\")\n",
    "else:\n",
    "  print(\"a is greater than b\")\n"
   ]
  },
  {
   "cell_type": "code",
   "execution_count": 1,
   "metadata": {},
   "outputs": [
    {
     "name": "stdout",
     "output_type": "stream",
     "text": [
      "Emo\n",
      "Emo\n",
      "Emo\n"
     ]
    }
   ],
   "source": [
    "#Les boucles permettent de répéter une certaine opération autant de fois que nécessaire\n",
    "#boucle while\n",
    "#while condition:\n",
    "    # instruction 1\n",
    "    # instruction 2\n",
    "    # ...\n",
    "    # instruction N\n",
    "n = 0\n",
    "while (n < 3):      \n",
    "    n = n + 1\n",
    "    print(\"Emo\")  "
   ]
  },
  {
   "cell_type": "code",
   "execution_count": null,
   "metadata": {},
   "outputs": [],
   "source": [
    "i"
   ]
  }
 ],
 "metadata": {
  "kernelspec": {
   "display_name": "Python 3",
   "language": "python",
   "name": "python3"
  },
  "language_info": {
   "codemirror_mode": {
    "name": "ipython",
    "version": 3
   },
   "file_extension": ".py",
   "mimetype": "text/x-python",
   "name": "python",
   "nbconvert_exporter": "python",
   "pygments_lexer": "ipython3",
   "version": "3.7.7"
  }
 },
 "nbformat": 4,
 "nbformat_minor": 4
}
